{
 "cells": [
  {
   "cell_type": "markdown",
   "metadata": {},
   "source": [
    "<img src=\"credit.jpg\", width=150, ALIGN=\"left\", border=20>\n",
    "<center>\n",
    "<h1>Give me some credit Starting Kit</h1>\n",
    "<br>This code was tested with <br>\n",
    "Python 2.7.13 | Anaconda 4.3.1 (https://anaconda.org/)<br>\n",
    "<i> Adapted for Chalab by CREDIT TEAM from original code of Balázs Kégl</i> <br>\n",
    "<a href=\"http://www.datascience-paris-saclay.fr\">Paris Saclay Center for Data Science (CDS)</a>\n",
    "</center>\n",
    "<p><br>\n",
    "\n",
    "ALL INFORMATION, SOFTWARE, DOCUMENTATION, AND DATA ARE PROVIDED \"AS-IS\". The CDS, CHALEARN, AND/OR OTHER ORGANIZERS OR CODE AUTHORS DISCLAIM ANY EXPRESSED OR IMPLIED WARRANTIES, INCLUDING, BUT NOT LIMITED TO, THE IMPLIED WARRANTIES OF MERCHANTABILITY AND FITNESS FOR ANY PARTICULAR PURPOSE, AND THE WARRANTY OF NON-INFRIGEMENT OF ANY THIRD PARTY'S INTELLECTUAL PROPERTY RIGHTS. IN NO EVENT SHALL AUTHORS AND ORGANIZERS BE LIABLE FOR ANY SPECIAL, \n",
    "INDIRECT OR CONSEQUENTIAL DAMAGES OR ANY DAMAGES WHATSOEVER ARISING OUT OF OR IN CONNECTION WITH THE USE OR PERFORMANCE OF SOFTWARE, DOCUMENTS, MATERIALS, PUBLICATIONS, OR INFORMATION MADE AVAILABLE FOR THE CHALLENGE. "
   ]
  },
  {
   "cell_type": "markdown",
   "metadata": {},
   "source": [
    "# Introduction\n",
    "\n",
    "Give Me Some Credit is a challenge based on the kaggle challenge <a href=\"https://www.kaggle.com/c/GiveMeSomeCredit\">Kaggle-Give-Credit</a>, the dataset is formatted in the AutoML format."
   ]
  },
  {
   "cell_type": "code",
   "execution_count": 1,
   "metadata": {},
   "outputs": [],
   "source": [
    "model_dir = 'sample_code_submission/'          \n",
    "problem_dir = 'ingestion_program/'  \n",
    "score_dir = 'scoring_program/'\n",
    "from sys import path; path.append(model_dir); path.append(problem_dir); path.append(score_dir); \n",
    "%matplotlib inline\n",
    "%load_ext autoreload\n",
    "%autoreload 2\n",
    "import seaborn as sns; sns.set()"
   ]
  },
  {
   "cell_type": "markdown",
   "metadata": {},
   "source": [
    "# Step 1: Exploratory data analysis\n",
    "We provide sample_data with the starting kit, but to prepare your submission, you must fetch the public_data from the challenge website and point to it."
   ]
  },
  {
   "cell_type": "code",
   "execution_count": 2,
   "metadata": {
    "collapsed": true
   },
   "outputs": [],
   "source": [
    "datadir = 'sample_data'              # Change this to the directory where you put the input data\n",
    "dataname = 'credit'\n",
    "#!ls $datadir*"
   ]
  },
  {
   "cell_type": "markdown",
   "metadata": {},
   "source": [
    "For convenience, we load the data as a \"pandas\" data frame, so we can use \"pandas\" and \"seaborn\" built in functions to explore the data."
   ]
  },
  {
   "cell_type": "code",
   "execution_count": 3,
   "metadata": {
    "scrolled": true
   },
   "outputs": [
    {
     "name": "stdout",
     "output_type": "stream",
     "text": [
      "Reading sample_data/credit_train from AutoML format\n",
      "Number of examples = 35\n",
      "Number of features = 56\n",
      "Number of labels = 1\n"
     ]
    }
   ],
   "source": [
    "from data_io import read_as_df\n",
    "data = read_as_df(datadir  + '/' + dataname)                # The data are loaded as a Pandas Data Frame"
   ]
  },
  {
   "cell_type": "code",
   "execution_count": 4,
   "metadata": {
    "scrolled": true
   },
   "outputs": [
    {
     "data": {
      "text/html": [
       "<div>\n",
       "<style>\n",
       "    .dataframe thead tr:only-child th {\n",
       "        text-align: right;\n",
       "    }\n",
       "\n",
       "    .dataframe thead th {\n",
       "        text-align: left;\n",
       "    }\n",
       "\n",
       "    .dataframe tbody tr th {\n",
       "        vertical-align: top;\n",
       "    }\n",
       "</style>\n",
       "<table border=\"1\" class=\"dataframe\">\n",
       "  <thead>\n",
       "    <tr style=\"text-align: right;\">\n",
       "      <th></th>\n",
       "      <th>X_0</th>\n",
       "      <th>X_1</th>\n",
       "      <th>X_2</th>\n",
       "      <th>X_3</th>\n",
       "      <th>X_4</th>\n",
       "      <th>X_5</th>\n",
       "      <th>X_6</th>\n",
       "      <th>X_7</th>\n",
       "      <th>X_8</th>\n",
       "      <th>X_9</th>\n",
       "      <th>...</th>\n",
       "      <th>X_47</th>\n",
       "      <th>X_48</th>\n",
       "      <th>X_49</th>\n",
       "      <th>X_50</th>\n",
       "      <th>X_51</th>\n",
       "      <th>X_52</th>\n",
       "      <th>X_53</th>\n",
       "      <th>X_54</th>\n",
       "      <th>X_55</th>\n",
       "      <th>granted</th>\n",
       "    </tr>\n",
       "  </thead>\n",
       "  <tbody>\n",
       "    <tr>\n",
       "      <th>0</th>\n",
       "      <td>1.0</td>\n",
       "      <td>-0.0241</td>\n",
       "      <td>1.4016</td>\n",
       "      <td>0.1381</td>\n",
       "      <td>-0.1727</td>\n",
       "      <td>-0.0377</td>\n",
       "      <td>0.3007</td>\n",
       "      <td>-0.0638</td>\n",
       "      <td>1.7541</td>\n",
       "      <td>-0.0579</td>\n",
       "      <td>...</td>\n",
       "      <td>0.5274</td>\n",
       "      <td>-0.0174</td>\n",
       "      <td>0.0713</td>\n",
       "      <td>-0.1119</td>\n",
       "      <td>0.0037</td>\n",
       "      <td>-0.0151</td>\n",
       "      <td>-0.1015</td>\n",
       "      <td>0.4161</td>\n",
       "      <td>-0.0137</td>\n",
       "      <td>1.0</td>\n",
       "    </tr>\n",
       "    <tr>\n",
       "      <th>1</th>\n",
       "      <td>1.0</td>\n",
       "      <td>-0.0239</td>\n",
       "      <td>0.9955</td>\n",
       "      <td>-0.1004</td>\n",
       "      <td>-0.1731</td>\n",
       "      <td>-0.0945</td>\n",
       "      <td>3.0213</td>\n",
       "      <td>-0.0638</td>\n",
       "      <td>-0.0161</td>\n",
       "      <td>-0.0579</td>\n",
       "      <td>...</td>\n",
       "      <td>-0.0488</td>\n",
       "      <td>-0.1748</td>\n",
       "      <td>-2.0125</td>\n",
       "      <td>0.0010</td>\n",
       "      <td>0.0037</td>\n",
       "      <td>0.0425</td>\n",
       "      <td>0.0009</td>\n",
       "      <td>0.0108</td>\n",
       "      <td>0.0385</td>\n",
       "      <td>0.0</td>\n",
       "    </tr>\n",
       "    <tr>\n",
       "      <th>2</th>\n",
       "      <td>1.0</td>\n",
       "      <td>-0.0234</td>\n",
       "      <td>0.2508</td>\n",
       "      <td>-0.1004</td>\n",
       "      <td>-0.1730</td>\n",
       "      <td>-0.1814</td>\n",
       "      <td>0.3007</td>\n",
       "      <td>-0.0638</td>\n",
       "      <td>-0.0161</td>\n",
       "      <td>-0.0579</td>\n",
       "      <td>...</td>\n",
       "      <td>-0.0049</td>\n",
       "      <td>-0.0174</td>\n",
       "      <td>0.3429</td>\n",
       "      <td>0.0010</td>\n",
       "      <td>0.0037</td>\n",
       "      <td>-0.0728</td>\n",
       "      <td>0.0009</td>\n",
       "      <td>-0.0184</td>\n",
       "      <td>-0.0660</td>\n",
       "      <td>0.0</td>\n",
       "    </tr>\n",
       "    <tr>\n",
       "      <th>3</th>\n",
       "      <td>1.0</td>\n",
       "      <td>-0.0242</td>\n",
       "      <td>0.8601</td>\n",
       "      <td>-0.1004</td>\n",
       "      <td>-0.1472</td>\n",
       "      <td>-0.0790</td>\n",
       "      <td>-1.0596</td>\n",
       "      <td>-0.0638</td>\n",
       "      <td>-0.9013</td>\n",
       "      <td>-0.0579</td>\n",
       "      <td>...</td>\n",
       "      <td>0.9550</td>\n",
       "      <td>0.0613</td>\n",
       "      <td>0.7058</td>\n",
       "      <td>0.0575</td>\n",
       "      <td>0.0037</td>\n",
       "      <td>0.0425</td>\n",
       "      <td>0.0521</td>\n",
       "      <td>0.6004</td>\n",
       "      <td>0.0385</td>\n",
       "      <td>0.0</td>\n",
       "    </tr>\n",
       "    <tr>\n",
       "      <th>4</th>\n",
       "      <td>1.0</td>\n",
       "      <td>-0.0240</td>\n",
       "      <td>1.3339</td>\n",
       "      <td>-0.1004</td>\n",
       "      <td>-0.1732</td>\n",
       "      <td>-0.1876</td>\n",
       "      <td>0.1063</td>\n",
       "      <td>-0.0638</td>\n",
       "      <td>-0.9013</td>\n",
       "      <td>-0.0579</td>\n",
       "      <td>...</td>\n",
       "      <td>-0.0958</td>\n",
       "      <td>-0.0062</td>\n",
       "      <td>-0.0708</td>\n",
       "      <td>0.0575</td>\n",
       "      <td>0.0037</td>\n",
       "      <td>0.0425</td>\n",
       "      <td>0.0521</td>\n",
       "      <td>0.6004</td>\n",
       "      <td>0.0385</td>\n",
       "      <td>0.0</td>\n",
       "    </tr>\n",
       "  </tbody>\n",
       "</table>\n",
       "<p>5 rows × 57 columns</p>\n",
       "</div>"
      ],
      "text/plain": [
       "   X_0     X_1     X_2     X_3     X_4     X_5     X_6     X_7     X_8  \\\n",
       "0  1.0 -0.0241  1.4016  0.1381 -0.1727 -0.0377  0.3007 -0.0638  1.7541   \n",
       "1  1.0 -0.0239  0.9955 -0.1004 -0.1731 -0.0945  3.0213 -0.0638 -0.0161   \n",
       "2  1.0 -0.0234  0.2508 -0.1004 -0.1730 -0.1814  0.3007 -0.0638 -0.0161   \n",
       "3  1.0 -0.0242  0.8601 -0.1004 -0.1472 -0.0790 -1.0596 -0.0638 -0.9013   \n",
       "4  1.0 -0.0240  1.3339 -0.1004 -0.1732 -0.1876  0.1063 -0.0638 -0.9013   \n",
       "\n",
       "      X_9   ...       X_47    X_48    X_49    X_50    X_51    X_52    X_53  \\\n",
       "0 -0.0579   ...     0.5274 -0.0174  0.0713 -0.1119  0.0037 -0.0151 -0.1015   \n",
       "1 -0.0579   ...    -0.0488 -0.1748 -2.0125  0.0010  0.0037  0.0425  0.0009   \n",
       "2 -0.0579   ...    -0.0049 -0.0174  0.3429  0.0010  0.0037 -0.0728  0.0009   \n",
       "3 -0.0579   ...     0.9550  0.0613  0.7058  0.0575  0.0037  0.0425  0.0521   \n",
       "4 -0.0579   ...    -0.0958 -0.0062 -0.0708  0.0575  0.0037  0.0425  0.0521   \n",
       "\n",
       "     X_54    X_55  granted  \n",
       "0  0.4161 -0.0137      1.0  \n",
       "1  0.0108  0.0385      0.0  \n",
       "2 -0.0184 -0.0660      0.0  \n",
       "3  0.6004  0.0385      0.0  \n",
       "4  0.6004  0.0385      0.0  \n",
       "\n",
       "[5 rows x 57 columns]"
      ]
     },
     "execution_count": 4,
     "metadata": {},
     "output_type": "execute_result"
    }
   ],
   "source": [
    "data.head()"
   ]
  },
  {
   "cell_type": "code",
   "execution_count": 5,
   "metadata": {
    "scrolled": false
   },
   "outputs": [
    {
     "data": {
      "text/html": [
       "<div>\n",
       "<style>\n",
       "    .dataframe thead tr:only-child th {\n",
       "        text-align: right;\n",
       "    }\n",
       "\n",
       "    .dataframe thead th {\n",
       "        text-align: left;\n",
       "    }\n",
       "\n",
       "    .dataframe tbody tr th {\n",
       "        vertical-align: top;\n",
       "    }\n",
       "</style>\n",
       "<table border=\"1\" class=\"dataframe\">\n",
       "  <thead>\n",
       "    <tr style=\"text-align: right;\">\n",
       "      <th></th>\n",
       "      <th>X_0</th>\n",
       "      <th>X_1</th>\n",
       "      <th>X_2</th>\n",
       "      <th>X_3</th>\n",
       "      <th>X_4</th>\n",
       "      <th>X_5</th>\n",
       "      <th>X_6</th>\n",
       "      <th>X_7</th>\n",
       "      <th>X_8</th>\n",
       "      <th>X_9</th>\n",
       "      <th>...</th>\n",
       "      <th>X_47</th>\n",
       "      <th>X_48</th>\n",
       "      <th>X_49</th>\n",
       "      <th>X_50</th>\n",
       "      <th>X_51</th>\n",
       "      <th>X_52</th>\n",
       "      <th>X_53</th>\n",
       "      <th>X_54</th>\n",
       "      <th>X_55</th>\n",
       "      <th>granted</th>\n",
       "    </tr>\n",
       "  </thead>\n",
       "  <tbody>\n",
       "    <tr>\n",
       "      <th>count</th>\n",
       "      <td>35.0</td>\n",
       "      <td>35.000000</td>\n",
       "      <td>35.000000</td>\n",
       "      <td>35.000000</td>\n",
       "      <td>35.000000</td>\n",
       "      <td>35.000000</td>\n",
       "      <td>35.000000</td>\n",
       "      <td>35.000000</td>\n",
       "      <td>35.000000</td>\n",
       "      <td>35.000000</td>\n",
       "      <td>...</td>\n",
       "      <td>35.000000</td>\n",
       "      <td>35.000000</td>\n",
       "      <td>35.000000</td>\n",
       "      <td>35.000000</td>\n",
       "      <td>35.000000</td>\n",
       "      <td>35.000000</td>\n",
       "      <td>35.000000</td>\n",
       "      <td>35.000000</td>\n",
       "      <td>35.000000</td>\n",
       "      <td>35.000000</td>\n",
       "    </tr>\n",
       "    <tr>\n",
       "      <th>mean</th>\n",
       "      <td>1.0</td>\n",
       "      <td>-0.022803</td>\n",
       "      <td>0.285620</td>\n",
       "      <td>-0.059514</td>\n",
       "      <td>-0.113589</td>\n",
       "      <td>-0.012249</td>\n",
       "      <td>0.411714</td>\n",
       "      <td>-0.036389</td>\n",
       "      <td>0.363203</td>\n",
       "      <td>-0.044146</td>\n",
       "      <td>...</td>\n",
       "      <td>0.805271</td>\n",
       "      <td>-0.023703</td>\n",
       "      <td>0.069740</td>\n",
       "      <td>-0.047869</td>\n",
       "      <td>0.004531</td>\n",
       "      <td>-0.013626</td>\n",
       "      <td>-0.015177</td>\n",
       "      <td>0.068317</td>\n",
       "      <td>0.007437</td>\n",
       "      <td>0.285714</td>\n",
       "    </tr>\n",
       "    <tr>\n",
       "      <th>std</th>\n",
       "      <td>0.0</td>\n",
       "      <td>0.001579</td>\n",
       "      <td>1.061694</td>\n",
       "      <td>0.091199</td>\n",
       "      <td>0.283124</td>\n",
       "      <td>0.267232</td>\n",
       "      <td>1.212929</td>\n",
       "      <td>0.112971</td>\n",
       "      <td>1.161747</td>\n",
       "      <td>0.056686</td>\n",
       "      <td>...</td>\n",
       "      <td>1.479449</td>\n",
       "      <td>0.079265</td>\n",
       "      <td>1.008086</td>\n",
       "      <td>0.108416</td>\n",
       "      <td>0.013518</td>\n",
       "      <td>0.090191</td>\n",
       "      <td>0.090419</td>\n",
       "      <td>1.004253</td>\n",
       "      <td>0.068604</td>\n",
       "      <td>0.458349</td>\n",
       "    </tr>\n",
       "    <tr>\n",
       "      <th>min</th>\n",
       "      <td>1.0</td>\n",
       "      <td>-0.024200</td>\n",
       "      <td>-1.712400</td>\n",
       "      <td>-0.100400</td>\n",
       "      <td>-0.173200</td>\n",
       "      <td>-0.435900</td>\n",
       "      <td>-1.448300</td>\n",
       "      <td>-0.063800</td>\n",
       "      <td>-0.901300</td>\n",
       "      <td>-0.057900</td>\n",
       "      <td>...</td>\n",
       "      <td>-0.751900</td>\n",
       "      <td>-0.276000</td>\n",
       "      <td>-2.012500</td>\n",
       "      <td>-0.374800</td>\n",
       "      <td>-0.024100</td>\n",
       "      <td>-0.277000</td>\n",
       "      <td>-0.255100</td>\n",
       "      <td>-2.937300</td>\n",
       "      <td>-0.170500</td>\n",
       "      <td>0.000000</td>\n",
       "    </tr>\n",
       "    <tr>\n",
       "      <th>25%</th>\n",
       "      <td>1.0</td>\n",
       "      <td>-0.024050</td>\n",
       "      <td>-0.426200</td>\n",
       "      <td>-0.100400</td>\n",
       "      <td>-0.173100</td>\n",
       "      <td>-0.175900</td>\n",
       "      <td>-0.379450</td>\n",
       "      <td>-0.063800</td>\n",
       "      <td>-0.901300</td>\n",
       "      <td>-0.057900</td>\n",
       "      <td>...</td>\n",
       "      <td>-0.004900</td>\n",
       "      <td>-0.062400</td>\n",
       "      <td>-0.588650</td>\n",
       "      <td>-0.055400</td>\n",
       "      <td>0.003700</td>\n",
       "      <td>-0.015100</td>\n",
       "      <td>-0.050300</td>\n",
       "      <td>-0.298650</td>\n",
       "      <td>-0.013700</td>\n",
       "      <td>0.000000</td>\n",
       "    </tr>\n",
       "    <tr>\n",
       "      <th>50%</th>\n",
       "      <td>1.0</td>\n",
       "      <td>-0.023600</td>\n",
       "      <td>0.453900</td>\n",
       "      <td>-0.100400</td>\n",
       "      <td>-0.173000</td>\n",
       "      <td>-0.048000</td>\n",
       "      <td>0.300700</td>\n",
       "      <td>-0.063800</td>\n",
       "      <td>-0.016100</td>\n",
       "      <td>-0.057900</td>\n",
       "      <td>...</td>\n",
       "      <td>0.527400</td>\n",
       "      <td>-0.017400</td>\n",
       "      <td>0.025200</td>\n",
       "      <td>-0.055400</td>\n",
       "      <td>0.003700</td>\n",
       "      <td>0.042500</td>\n",
       "      <td>0.000900</td>\n",
       "      <td>0.010800</td>\n",
       "      <td>0.038500</td>\n",
       "      <td>0.000000</td>\n",
       "    </tr>\n",
       "    <tr>\n",
       "      <th>75%</th>\n",
       "      <td>1.0</td>\n",
       "      <td>-0.021450</td>\n",
       "      <td>0.961650</td>\n",
       "      <td>-0.100400</td>\n",
       "      <td>-0.172900</td>\n",
       "      <td>0.100500</td>\n",
       "      <td>1.078000</td>\n",
       "      <td>-0.063800</td>\n",
       "      <td>0.869000</td>\n",
       "      <td>-0.057900</td>\n",
       "      <td>...</td>\n",
       "      <td>1.105600</td>\n",
       "      <td>0.021950</td>\n",
       "      <td>0.394900</td>\n",
       "      <td>0.001000</td>\n",
       "      <td>0.003700</td>\n",
       "      <td>0.042500</td>\n",
       "      <td>0.052100</td>\n",
       "      <td>0.600400</td>\n",
       "      <td>0.038500</td>\n",
       "      <td>1.000000</td>\n",
       "    </tr>\n",
       "    <tr>\n",
       "      <th>max</th>\n",
       "      <td>1.0</td>\n",
       "      <td>-0.019000</td>\n",
       "      <td>2.349400</td>\n",
       "      <td>0.138100</td>\n",
       "      <td>1.461900</td>\n",
       "      <td>0.898500</td>\n",
       "      <td>4.770200</td>\n",
       "      <td>0.415900</td>\n",
       "      <td>4.409500</td>\n",
       "      <td>0.182800</td>\n",
       "      <td>...</td>\n",
       "      <td>8.367600</td>\n",
       "      <td>0.161500</td>\n",
       "      <td>4.322500</td>\n",
       "      <td>0.057500</td>\n",
       "      <td>0.076000</td>\n",
       "      <td>0.042500</td>\n",
       "      <td>0.320700</td>\n",
       "      <td>2.561100</td>\n",
       "      <td>0.208500</td>\n",
       "      <td>1.000000</td>\n",
       "    </tr>\n",
       "  </tbody>\n",
       "</table>\n",
       "<p>8 rows × 57 columns</p>\n",
       "</div>"
      ],
      "text/plain": [
       "        X_0        X_1        X_2        X_3        X_4        X_5        X_6  \\\n",
       "count  35.0  35.000000  35.000000  35.000000  35.000000  35.000000  35.000000   \n",
       "mean    1.0  -0.022803   0.285620  -0.059514  -0.113589  -0.012249   0.411714   \n",
       "std     0.0   0.001579   1.061694   0.091199   0.283124   0.267232   1.212929   \n",
       "min     1.0  -0.024200  -1.712400  -0.100400  -0.173200  -0.435900  -1.448300   \n",
       "25%     1.0  -0.024050  -0.426200  -0.100400  -0.173100  -0.175900  -0.379450   \n",
       "50%     1.0  -0.023600   0.453900  -0.100400  -0.173000  -0.048000   0.300700   \n",
       "75%     1.0  -0.021450   0.961650  -0.100400  -0.172900   0.100500   1.078000   \n",
       "max     1.0  -0.019000   2.349400   0.138100   1.461900   0.898500   4.770200   \n",
       "\n",
       "             X_7        X_8        X_9    ...           X_47       X_48  \\\n",
       "count  35.000000  35.000000  35.000000    ...      35.000000  35.000000   \n",
       "mean   -0.036389   0.363203  -0.044146    ...       0.805271  -0.023703   \n",
       "std     0.112971   1.161747   0.056686    ...       1.479449   0.079265   \n",
       "min    -0.063800  -0.901300  -0.057900    ...      -0.751900  -0.276000   \n",
       "25%    -0.063800  -0.901300  -0.057900    ...      -0.004900  -0.062400   \n",
       "50%    -0.063800  -0.016100  -0.057900    ...       0.527400  -0.017400   \n",
       "75%    -0.063800   0.869000  -0.057900    ...       1.105600   0.021950   \n",
       "max     0.415900   4.409500   0.182800    ...       8.367600   0.161500   \n",
       "\n",
       "            X_49       X_50       X_51       X_52       X_53       X_54  \\\n",
       "count  35.000000  35.000000  35.000000  35.000000  35.000000  35.000000   \n",
       "mean    0.069740  -0.047869   0.004531  -0.013626  -0.015177   0.068317   \n",
       "std     1.008086   0.108416   0.013518   0.090191   0.090419   1.004253   \n",
       "min    -2.012500  -0.374800  -0.024100  -0.277000  -0.255100  -2.937300   \n",
       "25%    -0.588650  -0.055400   0.003700  -0.015100  -0.050300  -0.298650   \n",
       "50%     0.025200  -0.055400   0.003700   0.042500   0.000900   0.010800   \n",
       "75%     0.394900   0.001000   0.003700   0.042500   0.052100   0.600400   \n",
       "max     4.322500   0.057500   0.076000   0.042500   0.320700   2.561100   \n",
       "\n",
       "            X_55    granted  \n",
       "count  35.000000  35.000000  \n",
       "mean    0.007437   0.285714  \n",
       "std     0.068604   0.458349  \n",
       "min    -0.170500   0.000000  \n",
       "25%    -0.013700   0.000000  \n",
       "50%     0.038500   0.000000  \n",
       "75%     0.038500   1.000000  \n",
       "max     0.208500   1.000000  \n",
       "\n",
       "[8 rows x 57 columns]"
      ]
     },
     "execution_count": 5,
     "metadata": {},
     "output_type": "execute_result"
    }
   ],
   "source": [
    "data.describe() "
   ]
  },
  {
   "cell_type": "code",
   "execution_count": 6,
   "metadata": {
    "collapsed": true,
    "scrolled": false
   },
   "outputs": [],
   "source": [
    "#data.hist(figsize=(30, 30), bins=50, layout=(30, 3));"
   ]
  },
  {
   "cell_type": "code",
   "execution_count": 7,
   "metadata": {
    "collapsed": true
   },
   "outputs": [],
   "source": [
    "#sns.pairplot(data, hue=\"granted\")"
   ]
  },
  {
   "cell_type": "markdown",
   "metadata": {},
   "source": [
    "# Step 2: Building a predictive model"
   ]
  },
  {
   "cell_type": "markdown",
   "metadata": {},
   "source": [
    "## Loading data with DataManager\n",
    "We reload the data with the AutoML DataManager class because this is more convenient:"
   ]
  },
  {
   "cell_type": "code",
   "execution_count": 8,
   "metadata": {
    "scrolled": true
   },
   "outputs": [
    {
     "name": "stdout",
     "output_type": "stream",
     "text": [
      "Info file found : /Users/isabelleguyon/Documents/Projects/ParisSaclay/Enseignement/Winter2018/M2_AIC/3.final_website/Credit2/Give Me Some Credit/starting_kit_downloaded/sample_data/credit_public.info\n",
      "DataManager : credit\n",
      "info:\n",
      "\ttask = binary.classification\n",
      "\tname = credit\n",
      "\tfeat_type = Numerical\n",
      "\tformat = dense\n",
      "\tis_sparse = 0\n",
      "\tmetric = auc_binary\n",
      "\ttarget_type = Numerical\n",
      "\ttest_num = 35\n",
      "\tlabel_num = 1\n",
      "\ttarget_num = 1\n",
      "\tvalid_num = 35\n",
      "\thas_categorical = 0\n",
      "\tusage = Give me some credit dataset\n",
      "\tfeat_num = 56\n",
      "\ttime_budget = 1200\n",
      "\ttrain_num = 35\n",
      "\thas_missing = 0\n",
      "data:\n",
      "\tX_train = array(35, 56)\n",
      "\tY_train = array(35,)\n",
      "\tX_valid = array(35, 56)\n",
      "\tX_test = array(35, 56)\n",
      "feat_type:\tarray(56,)\n",
      "feat_idx:\tarray(0,)\n",
      "\n"
     ]
    }
   ],
   "source": [
    "from data_manager import DataManager\n",
    "D = DataManager(dataname, datadir, replace_missing=True)\n",
    "print D"
   ]
  },
  {
   "cell_type": "markdown",
   "metadata": {},
   "source": [
    "## Training a predictive model\n",
    "We provide an example of predictive model (for classification or regression) in the `sample_code_submission/` directory. It is a quite stupid model: it makes constant predictions. Replace it with your own model."
   ]
  },
  {
   "cell_type": "code",
   "execution_count": 9,
   "metadata": {
    "collapsed": true
   },
   "outputs": [],
   "source": [
    "from model import model\n",
    "#??model "
   ]
  },
  {
   "cell_type": "markdown",
   "metadata": {},
   "source": [
    "Create an instance of the model (run the constructor) and attempt to reload a previously saved version from `sample_code_submission/`:"
   ]
  },
  {
   "cell_type": "code",
   "execution_count": 10,
   "metadata": {
    "collapsed": true
   },
   "outputs": [],
   "source": [
    "M = model()\n",
    "\n",
    "reload_model=0                       # Change to 1 to reload an already trained model\n",
    "\n",
    "trained_model_name = model_dir + dataname\n",
    "if reload_model:    \n",
    "    M = M.load(trained_model_name)                  # Attempts to re-load an already trained model"
   ]
  },
  {
   "cell_type": "markdown",
   "metadata": {},
   "source": [
    "Train and run your predictive model. If you saved have an aldeady trained model saved in sample_code_submission, the evaluation script will reload it and not retrain, just test. This will happen the second time you run the code because when the model is trained it gets saved. So delete iris_model.pickle from sample_code_submission if you do not want this to happen."
   ]
  },
  {
   "cell_type": "code",
   "execution_count": 11,
   "metadata": {
    "scrolled": true
   },
   "outputs": [
    {
     "name": "stdout",
     "output_type": "stream",
     "text": [
      "FIT: dim(X)= [35, 56]\n",
      "FIT: dim(y)= [35, 1]\n",
      "PREDICT: dim(X)= [35, 56]\n",
      "PREDICT: dim(y)= [35, 1]\n",
      "PREDICT: dim(X)= [35, 56]\n",
      "PREDICT: dim(y)= [35, 1]\n",
      "PREDICT: dim(X)= [35, 56]\n",
      "PREDICT: dim(y)= [35, 1]\n"
     ]
    },
    {
     "name": "stderr",
     "output_type": "stream",
     "text": [
      "/Users/isabelleguyon/anaconda/lib/python2.7/site-packages/sklearn/discriminant_analysis.py:695: UserWarning: Variables are collinear\n",
      "  warnings.warn(\"Variables are collinear\")\n"
     ]
    }
   ],
   "source": [
    "if not(M.is_trained):\n",
    "    X_train = D.data['X_train']\n",
    "    Y_train = D.data['Y_train']\n",
    "    M.fit(X_train, Y_train)                     \n",
    "\n",
    "Y_hat_train = M.predict(D.data['X_train']) # Optional, not really needed to test on taining examples\n",
    "Y_hat_valid = M.predict(D.data['X_valid'])\n",
    "Y_hat_test = M.predict(D.data['X_test'])"
   ]
  },
  {
   "cell_type": "markdown",
   "metadata": {},
   "source": [
    "Save the trained model (will be ready to reload next time around) and save the prediction results:"
   ]
  },
  {
   "cell_type": "code",
   "execution_count": 12,
   "metadata": {
    "collapsed": true
   },
   "outputs": [],
   "source": [
    "M.save(trained_model_name)                 \n",
    "result_name = 'sample_result_submission/' + dataname\n",
    "from data_io import write\n",
    "write(result_name + '_valid.predict', Y_hat_valid)\n",
    "write(result_name + '_test.predict', Y_hat_test)\n",
    "#!ls $result_name*"
   ]
  },
  {
   "cell_type": "markdown",
   "metadata": {},
   "source": [
    "## Scoring the results\n",
    "### Load the challenge metric\n",
    "<b>The metric chosen for your challenge</b> is identified in the \"metric.txt\" file found in the `scoring_function/` directory. We use here the `mse_metric` metric (an example of organizer-supplied metric found in `my_metric.py`), which computes the mean-square-error. You may change that in the \"metric.txt\" file to e.g. use `bac_multiclass`, one of the AutoML challenge metrics found in `libscores.py`, which is 2*(balanced_accuracy)-1."
   ]
  },
  {
   "cell_type": "code",
   "execution_count": 13,
   "metadata": {},
   "outputs": [
    {
     "name": "stdout",
     "output_type": "stream",
     "text": [
      "Using scoring metric: auc_metric_\n"
     ]
    }
   ],
   "source": [
    "with open(score_dir + '/metric.txt', 'r') as f:\n",
    "    metric_name = f.readline().strip()\n",
    "import libscores, my_metric\n",
    "try:\n",
    "    scoring_function = getattr(libscores, metric_name)\n",
    "except:\n",
    "    scoring_function = getattr(my_metric, metric_name)\n",
    "print 'Using scoring metric:', metric_name\n",
    "#??scoring_function"
   ]
  },
  {
   "cell_type": "markdown",
   "metadata": {},
   "source": [
    "### Training performance\n",
    "The participants normally posess target values (labels) only for training examples (except for the sample data). We compute with the `example` metric the training score, which should be zero for perfect predictions."
   ]
  },
  {
   "cell_type": "code",
   "execution_count": 14,
   "metadata": {
    "scrolled": false
   },
   "outputs": [
    {
     "name": "stdout",
     "output_type": "stream",
     "text": [
      "Training score for the auc_metric_ metric = 1.0000\n",
      "Ideal score for the auc_metric_ metric = 1.0000\n"
     ]
    }
   ],
   "source": [
    "print 'Training score for the', metric_name, 'metric = %5.4f' % scoring_function(Y_train, Y_hat_train)\n",
    "print 'Ideal score for the', metric_name, 'metric = %5.4f' % scoring_function(Y_train, Y_train)"
   ]
  },
  {
   "cell_type": "markdown",
   "metadata": {},
   "source": [
    "Be careful: some metrics use one-hot encoding for multi-class classification problems, but other use class numbers. So you need to convert the target values and predicted values if you want to use those. This is the case of `scikit-learn` metrics."
   ]
  },
  {
   "cell_type": "code",
   "execution_count": 15,
   "metadata": {},
   "outputs": [
    {
     "name": "stdout",
     "output_type": "stream",
     "text": [
      "\tConverting to numeric vector\n",
      "\tConverting to numeric vector\n",
      "Training accuracy = 1.0000\n",
      "Confusion matrix [known in lines, predicted in columns]=\n",
      "[[25  0]\n",
      " [ 0 10]]\n"
     ]
    }
   ],
   "source": [
    "# Convert targets and predictions for vectors of class numbers:\n",
    "from data_converter import convert_to_num\n",
    "y_train = convert_to_num(Y_train)\n",
    "y_hat_train = convert_to_num(Y_hat_train)\n",
    "# Compute accuracy and confusion matrix:\n",
    "from sklearn.metrics import accuracy_score\n",
    "from sklearn.metrics import confusion_matrix\n",
    "#print 'y_train     =' , y_train\n",
    "#print 'y_hat_train =' , y_hat_train\n",
    "print 'Training accuracy = %5.4f' % accuracy_score(y_train, y_hat_train)\n",
    "print 'Confusion matrix [known in lines, predicted in columns]=\\n',confusion_matrix(y_train, y_hat_train)"
   ]
  },
  {
   "cell_type": "markdown",
   "metadata": {},
   "source": [
    "### Cross-validation performance\n",
    "The participants do not have access to the labels Y_valid and Y_test to self-assess their validation and test performances. But training performance is not a good prediction of validation or test performance. Using cross-validation, the training data is split into multiple training/test folds, which allows participants to self-assess their model during development."
   ]
  },
  {
   "cell_type": "code",
   "execution_count": 16,
   "metadata": {
    "scrolled": false
   },
   "outputs": [
    {
     "name": "stdout",
     "output_type": "stream",
     "text": [
      "FIT: dim(X)= [23, 56]\n",
      "FIT: dim(y)= [23, 1]\n",
      "PREDICT: dim(X)= [12, 56]\n",
      "PREDICT: dim(y)= [12, 1]\n",
      "('Fold', 1, 'example metric = ', -0.11111111111111116)\n",
      "FIT: dim(X)= [23, 56]\n",
      "FIT: dim(y)= [23, 1]\n",
      "PREDICT: dim(X)= [12, 56]\n",
      "PREDICT: dim(y)= [12, 1]\n",
      "('Fold', 2, 'example metric = ', 0.44444444444444442)\n",
      "FIT: dim(X)= [24, 56]\n",
      "FIT: dim(y)= [24, 1]\n",
      "PREDICT: dim(X)= [11, 56]\n",
      "PREDICT: dim(y)= [11, 1]\n",
      "('Fold', 3, 'example metric = ', 0.071428571428571397)\n",
      "('Average score = ', 0.13492063492063489)\n"
     ]
    }
   ],
   "source": [
    "from sklearn.model_selection import KFold\n",
    "from numpy import zeros, mean\n",
    "# 3-fold cross-validation\n",
    "n = 3\n",
    "kf = KFold(n_splits=n)\n",
    "kf.get_n_splits(X_train)\n",
    "i=0\n",
    "scores = zeros(n)\n",
    "for train_index, test_index in kf.split(X_train):\n",
    "    Xtr, Xva = X_train[train_index], X_train[test_index]\n",
    "    Ytr, Yva = Y_train[train_index], Y_train[test_index]\n",
    "    M = model()\n",
    "    M.fit(Xtr, Ytr)\n",
    "    Yhat = M.predict(Xva)\n",
    "    scores[i] = scoring_function(Yva, Yhat)\n",
    "    print ('Fold', i+1, 'example metric = ', scores[i])\n",
    "    i=i+1\n",
    "print ('Average score = ', mean(scores))"
   ]
  },
  {
   "cell_type": "markdown",
   "metadata": {},
   "source": [
    "# Step 3: Making a submission\n",
    "\n",
    "## Unit testing\n",
    "\n",
    "It is <b><span style=\"color:red\">important that you test your submission files before submitting them</span></b>. All you have to do to make a submission is modify the file <code>model.py</code> in the <code>sample_code_submission/</code> directory, then run this test to make sure everything works fine. This is the actual program that will be run on the server to test your submission. "
   ]
  },
  {
   "cell_type": "code",
   "execution_count": 17,
   "metadata": {
    "collapsed": true,
    "scrolled": true
   },
   "outputs": [],
   "source": [
    "outdir = 'sample_result_submission'     "
   ]
  },
  {
   "cell_type": "code",
   "execution_count": 18,
   "metadata": {
    "scrolled": false
   },
   "outputs": [
    {
     "name": "stdout",
     "output_type": "stream",
     "text": [
      "Using input_dir: /Users/isabelleguyon/Documents/Projects/ParisSaclay/Enseignement/Winter2018/M2_AIC/3.final_website/Credit2/Give Me Some Credit/starting_kit_downloaded/sample_data\n",
      "Using output_dir: /Users/isabelleguyon/Documents/Projects/ParisSaclay/Enseignement/Winter2018/M2_AIC/3.final_website/Credit2/Give Me Some Credit/starting_kit_downloaded/sample_result_submission\n",
      "Using program_dir: /Users/isabelleguyon/Documents/Projects/ParisSaclay/Enseignement/Winter2018/M2_AIC/3.final_website/Credit2/Give Me Some Credit/starting_kit_downloaded/ingestion_program\n",
      "Using submission_dir: /Users/isabelleguyon/Documents/Projects/ParisSaclay/Enseignement/Winter2018/M2_AIC/3.final_website/Credit2/Give Me Some Credit/starting_kit_downloaded/sample_code_submission\n",
      "\n",
      "========== Ingestion program version 6 ==========\n",
      "\n",
      "************************************************\n",
      "******** Processing dataset Credit ********\n",
      "************************************************\n",
      "========= Reading and converting data ==========\n",
      "Info file found : /Users/isabelleguyon/Documents/Projects/ParisSaclay/Enseignement/Winter2018/M2_AIC/3.final_website/Credit2/Give Me Some Credit/starting_kit_downloaded/sample_data/credit_public.info\n",
      "========= Reading /Users/isabelleguyon/Documents/Projects/ParisSaclay/Enseignement/Winter2018/M2_AIC/3.final_website/Credit2/Give Me Some Credit/starting_kit_downloaded/sample_data/credit_feat.type\n",
      "[+] Success in  0.00 sec\n",
      "========= Reading /Users/isabelleguyon/Documents/Projects/ParisSaclay/Enseignement/Winter2018/M2_AIC/3.final_website/Credit2/Give Me Some Credit/starting_kit_downloaded/sample_data/credit_train.data\n",
      "[+] Success in  0.00 sec\n",
      "========= Reading /Users/isabelleguyon/Documents/Projects/ParisSaclay/Enseignement/Winter2018/M2_AIC/3.final_website/Credit2/Give Me Some Credit/starting_kit_downloaded/sample_data/credit_train.solution\n",
      "[+] Success in  0.00 sec\n",
      "========= Reading /Users/isabelleguyon/Documents/Projects/ParisSaclay/Enseignement/Winter2018/M2_AIC/3.final_website/Credit2/Give Me Some Credit/starting_kit_downloaded/sample_data/credit_valid.data\n",
      "[+] Success in  0.00 sec\n",
      "========= Reading /Users/isabelleguyon/Documents/Projects/ParisSaclay/Enseignement/Winter2018/M2_AIC/3.final_website/Credit2/Give Me Some Credit/starting_kit_downloaded/sample_data/credit_test.data\n",
      "[+] Success in  0.00 sec\n",
      "DataManager : credit\n",
      "info:\n",
      "\ttask = binary.classification\n",
      "\tname = credit\n",
      "\tfeat_type = Numerical\n",
      "\tformat = dense\n",
      "\tis_sparse = 0\n",
      "\tmetric = auc_binary\n",
      "\ttarget_type = Numerical\n",
      "\ttest_num = 35\n",
      "\tlabel_num = 1\n",
      "\ttarget_num = 1\n",
      "\tvalid_num = 35\n",
      "\thas_categorical = 0\n",
      "\tusage = Give me some credit dataset\n",
      "\tfeat_num = 56\n",
      "\ttime_budget = 1200\n",
      "\ttrain_num = 35\n",
      "\thas_missing = 0\n",
      "data:\n",
      "\tX_train = array(35, 56)\n",
      "\tY_train = array(35,)\n",
      "\tX_valid = array(35, 56)\n",
      "\tX_test = array(35, 56)\n",
      "feat_type:\tarray(56,)\n",
      "feat_idx:\tarray(56,)\n",
      "\n",
      "[+] Size of uploaded data  72.00 bytes\n",
      "[+] Cumulated time budget (all tasks so far)  1200.00 sec\n",
      "[+] Time budget for this task 1200.00 sec\n",
      "[+] Remaining time after reading data 1200.00 sec\n",
      "======== Creating model ==========\n",
      "**********************************************************\n",
      "****** Attempting to reload model to avoid training ******\n",
      "**********************************************************\n",
      "Model reloaded from: /Users/isabelleguyon/Documents/Projects/ParisSaclay/Enseignement/Winter2018/M2_AIC/3.final_website/Credit2/Give Me Some Credit/starting_kit_downloaded/sample_code_submission/credit_model.pickle\n",
      "[+] Model reloaded, no need to train!\n",
      "PREDICT: dim(X)= [35, 56]\n",
      "PREDICT: dim(y)= [35, 1]\n",
      "PREDICT: dim(X)= [35, 56]\n",
      "PREDICT: dim(y)= [35, 1]\n",
      "PREDICT: dim(X)= [35, 56]\n",
      "PREDICT: dim(y)= [35, 1]\n",
      "[+] Prediction success, time spent so far  0.03 sec\n",
      "======== Saving results to: /Users/isabelleguyon/Documents/Projects/ParisSaclay/Enseignement/Winter2018/M2_AIC/3.final_website/Credit2/Give Me Some Credit/starting_kit_downloaded/sample_result_submission\n",
      "[+] Results saved, time spent so far  0.03 sec\n",
      "[+] End cycle, time left 1199.97 sec\n",
      "[+] Done\n",
      "[+] Overall time spent  1.13 sec ::  Overall time budget 1200.00 sec\n"
     ]
    }
   ],
   "source": [
    "!python $problem_dir/ingestion.py $datadir $outdir $problem_dir $model_dir"
   ]
  },
  {
   "cell_type": "markdown",
   "metadata": {
    "collapsed": true
   },
   "source": [
    "## Preparing the submission\n",
    "\n",
    "Zip the contents of `sample_code_submission/` (without the directory), or download the challenge public_data and run the command in the previous cell, after replacing sample_data by public_data.\n",
    "Then zip the contents of `sample_result_submission/` (without the directory).\n",
    "<b><span style=\"color:red\">Do NOT zip the data with your submissions</span></b>."
   ]
  },
  {
   "cell_type": "code",
   "execution_count": null,
   "metadata": {
    "collapsed": true
   },
   "outputs": [],
   "source": []
  }
 ],
 "metadata": {
  "kernelspec": {
   "display_name": "Python [default]",
   "language": "python",
   "name": "python2"
  },
  "language_info": {
   "codemirror_mode": {
    "name": "ipython",
    "version": 2
   },
   "file_extension": ".py",
   "mimetype": "text/x-python",
   "name": "python",
   "nbconvert_exporter": "python",
   "pygments_lexer": "ipython2",
   "version": "2.7.13"
  }
 },
 "nbformat": 4,
 "nbformat_minor": 1
}
